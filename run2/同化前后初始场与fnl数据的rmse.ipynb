{
 "cells": [
  {
   "cell_type": "code",
   "execution_count": 38,
   "id": "cd392a0a-8621-4c8f-b3ca-4a3e139f52d7",
   "metadata": {},
   "outputs": [],
   "source": [
    "import xarray as xr\n",
    "import cfgrib\n",
    "import numpy as np\n",
    "import xesmf as xe\n",
    "import eccodes\n",
    "import salem\n",
    "%run /mnt/d/work/sunhh/script/function/lambert_ticks.py\n",
    "%run /mnt/d/work/sunhh/script/function/calculate.py\n",
    "%run /mnt/d/work/sunhh/script/function/score.py\n",
    "%run /mnt/d/work/sunhh/script/function/get_wrfvar.py"
   ]
  },
  {
   "cell_type": "code",
   "execution_count": null,
   "id": "b0365dbd-454b-42cd-a737-692d96218784",
   "metadata": {
    "jupyter": {
     "source_hidden": true
    },
    "tags": []
   },
   "outputs": [],
   "source": [
    "import pygrib as pg\n",
    "import xarray\n",
    "import numpy as np\n",
    "import datetime\n",
    "\n",
    "class grib_decode_helper:\n",
    "    def __init__(self,grib_paths,lons,lats):\n",
    "        self.paths = grib_paths\n",
    "        self.lons = lons\n",
    "        self.lats = lats\n",
    "\n",
    "    def get_element_xarray(self,**args):\n",
    "        all_grb_v = list()\n",
    "        all_grb_t = list()\n",
    "        lat1 = float(min(self.lats))\n",
    "        lat2 = float(max(self.lats))\n",
    "        lon1 = float(min(self.lons))\n",
    "        lon2 = float(max(self.lons))\n",
    "        index = 0\n",
    "        for p in self.paths:\n",
    "            index = index+1\n",
    "            grbs = pg.open(p)\n",
    "            grb = grbs.select(**args)[0]\n",
    "            if self.lats is None:\n",
    "                all_grb_v.append(grb.values)\n",
    "                lats,lons = grb.latlons()\n",
    "            else:\n",
    "                data, lats, lons = grb.data(lat1=lat1,lat2=lat2,lon1=lon1,lon2=lon2)\n",
    "                all_grb_v.append(data)\n",
    "            all_grb_t.append(datetime.datetime(grb.year,grb.month,grb.day,grb.hour,grb.minute) )\n",
    "        return xarray.DataArray(np.array(all_grb_v),coords={'lon':lons[0,:],'lat':lats[:,0],'times':all_grb_t},dims=['times','lat','lon'])\n",
    "\n"
   ]
  },
  {
   "cell_type": "code",
   "execution_count": 3,
   "id": "5b400255-30b9-4f54-90bc-2316d7e70f80",
   "metadata": {
    "collapsed": true,
    "jupyter": {
     "outputs_hidden": true
    },
    "tags": []
   },
   "outputs": [
    {
     "name": "stderr",
     "output_type": "stream",
     "text": [
      "skipping variable: paramId==228164 shortName='tcc'\n",
      "Traceback (most recent call last):\n",
      "  File \"/mnt/d/work/miniconda/envs/sunhh/lib/python3.9/site-packages/cfgrib/dataset.py\", line 660, in build_dataset_components\n",
      "    dict_merge(variables, coord_vars)\n",
      "  File \"/mnt/d/work/miniconda/envs/sunhh/lib/python3.9/site-packages/cfgrib/dataset.py\", line 591, in dict_merge\n",
      "    raise DatasetBuildError(\n",
      "cfgrib.dataset.DatasetBuildError: key present and new value is different: key='isobaricInhPa' value=Variable(dimensions=('isobaricInhPa',), data=array([1000.,  975.,  950.,  925.,  900.,  850.,  800.,  750.,  700.,\n",
      "        650.,  600.,  550.,  500.,  450.,  400.,  350.,  300.,  250.,\n",
      "        200.,  150.,  100.,   70.,   50.,   40.,   30.,   20.,   15.,\n",
      "         10.,    7.,    5.,    3.,    2.,    1.])) new_value=Variable(dimensions=('isobaricInhPa',), data=array([1000.,  975.,  950.,  925.,  900.,  850.,  800.,  750.,  700.,\n",
      "        650.,  600.,  550.,  500.,  450.,  400.,  350.,  300.,  250.,\n",
      "        200.,  150.,  100.,   50.]))\n",
      "skipping variable: paramId==260018 shortName='clwmr'\n",
      "Traceback (most recent call last):\n",
      "  File \"/mnt/d/work/miniconda/envs/sunhh/lib/python3.9/site-packages/cfgrib/dataset.py\", line 660, in build_dataset_components\n",
      "    dict_merge(variables, coord_vars)\n",
      "  File \"/mnt/d/work/miniconda/envs/sunhh/lib/python3.9/site-packages/cfgrib/dataset.py\", line 591, in dict_merge\n",
      "    raise DatasetBuildError(\n",
      "cfgrib.dataset.DatasetBuildError: key present and new value is different: key='isobaricInhPa' value=Variable(dimensions=('isobaricInhPa',), data=array([1000.,  975.,  950.,  925.,  900.,  850.,  800.,  750.,  700.,\n",
      "        650.,  600.,  550.,  500.,  450.,  400.,  350.,  300.,  250.,\n",
      "        200.,  150.,  100.,   70.,   50.,   40.,   30.,   20.,   15.,\n",
      "         10.,    7.,    5.,    3.,    2.,    1.])) new_value=Variable(dimensions=('isobaricInhPa',), data=array([1000.,  975.,  950.,  925.,  900.,  850.,  800.,  750.,  700.,\n",
      "        650.,  600.,  550.,  500.,  450.,  400.,  350.,  300.,  250.,\n",
      "        200.,  150.,  100.,   50.]))\n",
      "skipping variable: paramId==260019 shortName='icmr'\n",
      "Traceback (most recent call last):\n",
      "  File \"/mnt/d/work/miniconda/envs/sunhh/lib/python3.9/site-packages/cfgrib/dataset.py\", line 660, in build_dataset_components\n",
      "    dict_merge(variables, coord_vars)\n",
      "  File \"/mnt/d/work/miniconda/envs/sunhh/lib/python3.9/site-packages/cfgrib/dataset.py\", line 591, in dict_merge\n",
      "    raise DatasetBuildError(\n",
      "cfgrib.dataset.DatasetBuildError: key present and new value is different: key='isobaricInhPa' value=Variable(dimensions=('isobaricInhPa',), data=array([1000.,  975.,  950.,  925.,  900.,  850.,  800.,  750.,  700.,\n",
      "        650.,  600.,  550.,  500.,  450.,  400.,  350.,  300.,  250.,\n",
      "        200.,  150.,  100.,   70.,   50.,   40.,   30.,   20.,   15.,\n",
      "         10.,    7.,    5.,    3.,    2.,    1.])) new_value=Variable(dimensions=('isobaricInhPa',), data=array([1000.,  975.,  950.,  925.,  900.,  850.,  800.,  750.,  700.,\n",
      "        650.,  600.,  550.,  500.,  450.,  400.,  350.,  300.,  250.,\n",
      "        200.,  150.,  100.,   50.]))\n",
      "skipping variable: paramId==260020 shortName='rwmr'\n",
      "Traceback (most recent call last):\n",
      "  File \"/mnt/d/work/miniconda/envs/sunhh/lib/python3.9/site-packages/cfgrib/dataset.py\", line 660, in build_dataset_components\n",
      "    dict_merge(variables, coord_vars)\n",
      "  File \"/mnt/d/work/miniconda/envs/sunhh/lib/python3.9/site-packages/cfgrib/dataset.py\", line 591, in dict_merge\n",
      "    raise DatasetBuildError(\n",
      "cfgrib.dataset.DatasetBuildError: key present and new value is different: key='isobaricInhPa' value=Variable(dimensions=('isobaricInhPa',), data=array([1000.,  975.,  950.,  925.,  900.,  850.,  800.,  750.,  700.,\n",
      "        650.,  600.,  550.,  500.,  450.,  400.,  350.,  300.,  250.,\n",
      "        200.,  150.,  100.,   70.,   50.,   40.,   30.,   20.,   15.,\n",
      "         10.,    7.,    5.,    3.,    2.,    1.])) new_value=Variable(dimensions=('isobaricInhPa',), data=array([1000.,  975.,  950.,  925.,  900.,  850.,  800.,  750.,  700.,\n",
      "        650.,  600.,  550.,  500.,  450.,  400.,  350.,  300.,  250.,\n",
      "        200.,  150.,  100.,   50.]))\n",
      "skipping variable: paramId==260021 shortName='snmr'\n",
      "Traceback (most recent call last):\n",
      "  File \"/mnt/d/work/miniconda/envs/sunhh/lib/python3.9/site-packages/cfgrib/dataset.py\", line 660, in build_dataset_components\n",
      "    dict_merge(variables, coord_vars)\n",
      "  File \"/mnt/d/work/miniconda/envs/sunhh/lib/python3.9/site-packages/cfgrib/dataset.py\", line 591, in dict_merge\n",
      "    raise DatasetBuildError(\n",
      "cfgrib.dataset.DatasetBuildError: key present and new value is different: key='isobaricInhPa' value=Variable(dimensions=('isobaricInhPa',), data=array([1000.,  975.,  950.,  925.,  900.,  850.,  800.,  750.,  700.,\n",
      "        650.,  600.,  550.,  500.,  450.,  400.,  350.,  300.,  250.,\n",
      "        200.,  150.,  100.,   70.,   50.,   40.,   30.,   20.,   15.,\n",
      "         10.,    7.,    5.,    3.,    2.,    1.])) new_value=Variable(dimensions=('isobaricInhPa',), data=array([1000.,  975.,  950.,  925.,  900.,  850.,  800.,  750.,  700.,\n",
      "        650.,  600.,  550.,  500.,  450.,  400.,  350.,  300.,  250.,\n",
      "        200.,  150.,  100.,   50.]))\n",
      "skipping variable: paramId==260028 shortName='grle'\n",
      "Traceback (most recent call last):\n",
      "  File \"/mnt/d/work/miniconda/envs/sunhh/lib/python3.9/site-packages/cfgrib/dataset.py\", line 660, in build_dataset_components\n",
      "    dict_merge(variables, coord_vars)\n",
      "  File \"/mnt/d/work/miniconda/envs/sunhh/lib/python3.9/site-packages/cfgrib/dataset.py\", line 591, in dict_merge\n",
      "    raise DatasetBuildError(\n",
      "cfgrib.dataset.DatasetBuildError: key present and new value is different: key='isobaricInhPa' value=Variable(dimensions=('isobaricInhPa',), data=array([1000.,  975.,  950.,  925.,  900.,  850.,  800.,  750.,  700.,\n",
      "        650.,  600.,  550.,  500.,  450.,  400.,  350.,  300.,  250.,\n",
      "        200.,  150.,  100.,   70.,   50.,   40.,   30.,   20.,   15.,\n",
      "         10.,    7.,    5.,    3.,    2.,    1.])) new_value=Variable(dimensions=('isobaricInhPa',), data=array([1000.,  975.,  950.,  925.,  900.,  850.,  800.,  750.,  700.,\n",
      "        650.,  600.,  550.,  500.,  450.,  400.,  350.,  300.,  250.,\n",
      "        200.,  150.,  100.,   50.]))\n"
     ]
    }
   ],
   "source": [
    "fnl = xr.open_dataset(\"/mnt/d/work/obs/fnl/0.25/gdas1.fnl0p25.2022072500.f00.grib2\",engine=\"cfgrib\", backend_kwargs={'filter_by_keys':{'typeOfLevel': 'isobaricInhPa'}})"
   ]
  },
  {
   "cell_type": "code",
   "execution_count": 5,
   "id": "486bc79f-03dd-4e2c-872a-4b1be8911252",
   "metadata": {},
   "outputs": [],
   "source": [
    "out_grid = xe.util.grid_2d(101.875, 133.125, 0.25, 24.875, 45.125, 0.25).rename_dims({'x':'west_east','y':'south_north'})\n",
    "ds_wrf = xr.open_dataset(\"/mnt/d/work/sunhh/data/run2/1.5/fg\").rename({'XLONG': 'lon', 'XLAT': 'lat'}).isel(Time=0)\n",
    "regridder_wrf = xe.Regridder(ds_wrf, out_grid, 'bilinear')"
   ]
  },
  {
   "cell_type": "code",
   "execution_count": 39,
   "id": "32e79153-d4d1-433a-b4c2-d1016e0f9316",
   "metadata": {},
   "outputs": [],
   "source": [
    "fg_path = \"/mnt/d/work/sunhh/data/run2/1.5/fg\"\n",
    "da_path = \"/mnt/d/work/sunhh/data/run2/1.5/wrfout_d01_2022-07-25_00_00_00\"\n",
    "levellist = [200,500,700]\n",
    "u_fg,v_fg,t_fg,rh_fg = get_wrfvar(fg_path,levellist)\n",
    "u_da,v_da,t_da,rh_da = get_wrfvar(da_path,levellist)"
   ]
  },
  {
   "cell_type": "code",
   "execution_count": 41,
   "id": "325bba23-3cb3-459a-bc0c-c4cb8e57c045",
   "metadata": {},
   "outputs": [],
   "source": [
    "u_fg = regridder_wrf(u_fg)\n",
    "v_fg = regridder_wrf(v_fg)\n",
    "t_fg = regridder_wrf(t_fg)\n",
    "rh_fg = regridder_wrf(rh_fg)\n",
    "u_da = regridder_wrf(u_da)\n",
    "v_da = regridder_wrf(v_da)\n",
    "t_da = regridder_wrf(t_da)\n",
    "rh_da = regridder_wrf(rh_da)"
   ]
  },
  {
   "cell_type": "code",
   "execution_count": 58,
   "id": "80ac4f83-124f-44d0-a8f8-72d683e0b504",
   "metadata": {},
   "outputs": [],
   "source": [
    "u_fnl = fnl.u.loc[levellist,25:45:-1,102:133]\n",
    "v_fnl = fnl.v.loc[levellist,25:45:-1,102:133]\n",
    "t_fnl = fnl.t.loc[levellist,25:45:-1,102:133]-273.15\n",
    "rh_fnl = fnl.r.loc[levellist,25:45:-1,102:133]"
   ]
  },
  {
   "cell_type": "code",
   "execution_count": 63,
   "id": "eb84ce46-69f4-46a2-8fee-cb7a92a96eb2",
   "metadata": {},
   "outputs": [
    {
     "name": "stdout",
     "output_type": "stream",
     "text": [
      "200 u: 1.7515962 1.7911545\n",
      "v: 2.1769462 2.1371124\n",
      "t: 0.21995465 0.25623047\n",
      "rh: 14.947175 14.77847\n",
      "500 u: 0.8180275 1.7332114\n",
      "v: 1.2563311 1.7032955\n",
      "t: 0.20242259 0.28177434\n",
      "rh: 5.113566 5.105171\n",
      "700 u: 0.73039454 2.3078542\n",
      "v: 0.91027856 1.871075\n",
      "t: 0.19353002 0.6862414\n",
      "rh: 3.1244876 3.6963983\n"
     ]
    }
   ],
   "source": [
    "for level in levellist:\n",
    "    print(level,\"u:\",rmse_pe(u_fg.loc[level].values,u_fnl.loc[level].values),rmse_pe(u_da.loc[level].values,u_fnl.loc[level].values))\n",
    "    print(\"v:\",rmse_pe(v_fg.loc[level].values,v_fnl.loc[level].values),rmse_pe(v_da.loc[level].values,v_fnl.loc[level].values))\n",
    "    print(\"t:\",rmse_pe(t_fg.loc[level].values,t_fnl.loc[level].values),rmse_pe(t_da.loc[level].values,t_fnl.loc[level].values))\n",
    "    print(\"rh:\",rmse_pe(rh_fg.loc[level].values,rh_fnl.loc[level].values),rmse_pe(rh_da.loc[level].values,rh_fnl.loc[level].values))"
   ]
  },
  {
   "cell_type": "code",
   "execution_count": 32,
   "id": "d4408632-5d4a-4d96-8d1f-a7407636a2c3",
   "metadata": {},
   "outputs": [],
   "source": []
  }
 ],
 "metadata": {
  "kernelspec": {
   "display_name": "Python 3 (ipykernel)",
   "language": "python",
   "name": "python3"
  },
  "language_info": {
   "codemirror_mode": {
    "name": "ipython",
    "version": 3
   },
   "file_extension": ".py",
   "mimetype": "text/x-python",
   "name": "python",
   "nbconvert_exporter": "python",
   "pygments_lexer": "ipython3",
   "version": "3.9.13"
  }
 },
 "nbformat": 4,
 "nbformat_minor": 5
}
